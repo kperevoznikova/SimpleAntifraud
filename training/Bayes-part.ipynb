{
 "cells": [
  {
   "cell_type": "markdown",
   "id": "bf373876",
   "metadata": {},
   "source": [
    "Download training dataset: [fraud_call.file](https://www.kaggle.com/code/narayanyadav/detect-fraud-call/data)"
   ]
  },
  {
   "cell_type": "code",
   "execution_count": 1,
   "id": "89dfddad",
   "metadata": {},
   "outputs": [],
   "source": [
    "import pandas as pd"
   ]
  },
  {
   "cell_type": "code",
   "execution_count": 2,
   "id": "54809d79",
   "metadata": {},
   "outputs": [],
   "source": [
    "data = pd.read_csv('fraud_call.file',\n",
    "                   sep='\\t',\n",
    "                   header=None, on_bad_lines='skip',\n",
    "                   names=['label','content'])"
   ]
  },
  {
   "cell_type": "code",
   "execution_count": 3,
   "id": "a05bf78d",
   "metadata": {},
   "outputs": [],
   "source": [
    "from nltk.stem import WordNetLemmatizer\n",
    "from nltk.corpus import stopwords # non informative most common words like 'the', 'is'\n",
    "from sklearn.feature_extraction.text import TfidfVectorizer\n",
    "\n",
    "lemmatizer = WordNetLemmatizer()\n",
    "vectorizer = TfidfVectorizer(max_features=1500)"
   ]
  },
  {
   "cell_type": "code",
   "execution_count": null,
   "id": "77ce9e2b",
   "metadata": {},
   "outputs": [],
   "source": [
    "import nltk\n",
    "nltk.download('stopwords')\n",
    "nltk.download('wordnet')\n",
    "nltk.download('omw-1.4')"
   ]
  },
  {
   "cell_type": "code",
   "execution_count": 9,
   "id": "452bc152",
   "metadata": {},
   "outputs": [],
   "source": [
    "import re\n",
    "from num2words import num2words\n",
    "\n",
    "def remove_special_characters(column):\n",
    "    special_characters = r'[£$&+,:;=?@#|<>.^*()%!-]'\n",
    "    return re.sub(special_characters, '', column)\n",
    "\n",
    "def remove_special_escaped(column):\n",
    "    escaped = ['&lt;', '&gt;', '&amp;']\n",
    "    for i in escaped: column = column.replace(i, '')\n",
    "    return column\n",
    "\n",
    "def many_nums(nums : str):\n",
    "    return ' '.join([num2words(i) for i in nums])\n",
    "\n",
    "def less_nums(nums : str):\n",
    "    return num2words(nums)\n",
    "\n",
    "def cost_speaked(column):\n",
    "    digits_comma_separated = r\"((\\d*\\.?\\d+|\\d{1,3}(,\\d{3})*(\\.\\d+)?))\"\n",
    "    return re.sub(digits_comma_separated,\n",
    "                 lambda x: less_nums(x.group()), column)\n",
    "\n",
    "def phones_speaked(column):\n",
    "    more_than_four_digits = r\"\\d{4,}\"\n",
    "    return re.sub(more_than_four_digits, \n",
    "                  lambda x: many_nums(x.group()), column)"
   ]
  },
  {
   "cell_type": "code",
   "execution_count": 7,
   "id": "c5895287",
   "metadata": {},
   "outputs": [
    {
     "data": {
      "text/plain": [
       "'TWO THOUSAND'"
      ]
     },
     "execution_count": 7,
     "metadata": {},
     "output_type": "execute_result"
    }
   ],
   "source": [
    "cost_speaked('2000').upper()"
   ]
  },
  {
   "cell_type": "code",
   "execution_count": 43,
   "id": "4d8881ec",
   "metadata": {},
   "outputs": [
    {
     "data": {
      "text/plain": [
       "'todays vodafone numbers ending with 4882 are selected to a receive a 350 award if your number matches call 09064019014 to receive your 350 award'"
      ]
     },
     "execution_count": 43,
     "metadata": {},
     "output_type": "execute_result"
    }
   ],
   "source": [
    "remove_special_characters(data.content[1].lower())"
   ]
  },
  {
   "cell_type": "code",
   "execution_count": 37,
   "id": "43fc86ac",
   "metadata": {},
   "outputs": [],
   "source": [
    "# firstly I think to use .replace but it operates only full column content\n",
    "data_speaked = data[['content']].applymap(lambda x: x.lower())\\\n",
    "                                .applymap(remove_special_escaped)\\\n",
    "                                .applymap(remove_special_characters)\\\n",
    "                                .applymap(phones_speaked)\\\n",
    "                                .applymap(cost_speaked)"
   ]
  },
  {
   "cell_type": "code",
   "execution_count": 38,
   "id": "74af2bfa",
   "metadata": {},
   "outputs": [
    {
     "data": {
      "text/plain": [
       "'todays vodafone numbers ending with four eight eight two are selected to a receive a three hundred and fifty award if your number matches call zero nine zero six four zero one nine zero one four to receive your three hundred and fifty award'"
      ]
     },
     "execution_count": 38,
     "metadata": {},
     "output_type": "execute_result"
    }
   ],
   "source": [
    "data_speaked.content[1]"
   ]
  },
  {
   "cell_type": "code",
   "execution_count": 40,
   "id": "82ac3bc2",
   "metadata": {},
   "outputs": [],
   "source": [
    "def lemmatize(column):\n",
    "    return ' '.join([lemmatizer.lemmatize(word) for word in column.split() \\\n",
    "                    if word not in stopwords.words('english')])"
   ]
  },
  {
   "cell_type": "code",
   "execution_count": 41,
   "id": "249dc6fb",
   "metadata": {},
   "outputs": [
    {
     "data": {
      "text/plain": [
       "'today vodafone number ending four eight eight two selected receive three hundred fifty award number match call zero nine zero six four zero one nine zero one four receive three hundred fifty award'"
      ]
     },
     "execution_count": 41,
     "metadata": {},
     "output_type": "execute_result"
    }
   ],
   "source": [
    "data_lemmatized = data_speaked.applymap(lemmatize)\n",
    "data_lemmatized.content[1]"
   ]
  },
  {
   "cell_type": "code",
   "execution_count": 23,
   "id": "c5996a41",
   "metadata": {},
   "outputs": [
    {
     "data": {
      "text/plain": [
       "0       hello bank manager sbi ur debit card expire wo...\n",
       "1       today vodafone number ending four eight eight ...\n",
       "2                                please say like hi hi hi\n",
       "3                                                   thank\n",
       "4                       oh forwarded message thought send\n",
       "                              ...                        \n",
       "5919    get one zero zero zero inr voucher please call...\n",
       "5920    get free access google cloud account hit given...\n",
       "5921    get free aws cloud account hit given message b...\n",
       "5922    get free access microsoft azure hit given mess...\n",
       "5923    hello sir bank fill application form credit ca...\n",
       "Name: content, Length: 5924, dtype: object"
      ]
     },
     "execution_count": 23,
     "metadata": {},
     "output_type": "execute_result"
    }
   ],
   "source": [
    "data_final = data_lemmatized.copy()\n",
    "data_final['label'] = pd.get_dummies(data.label).fraud\n",
    "data_final.to_csv('fraud_clear.csv') #remove junk lines (with decimal, etc) later \n",
    "data_final.content"
   ]
  },
  {
   "cell_type": "code",
   "execution_count": 24,
   "id": "5f9660f2",
   "metadata": {},
   "outputs": [
    {
     "data": {
      "text/plain": [
       "0.9756920999324781"
      ]
     },
     "execution_count": 24,
     "metadata": {},
     "output_type": "execute_result"
    }
   ],
   "source": [
    "from sklearn.model_selection import train_test_split\n",
    "from sklearn.naive_bayes import MultinomialNB\n",
    "\n",
    "x = vectorizer.fit_transform(data_final.content).toarray()\n",
    "x_train, x_test, y_train, y_test = train_test_split(x, data_final.label, \n",
    "                                                    test_size=.25, random_state=50)\n",
    "fraud_classifier = MultinomialNB().fit(x_train, y_train)\n",
    "fraud_classifier.score(x_test, y_test)"
   ]
  },
  {
   "cell_type": "code",
   "execution_count": 28,
   "id": "ac90ff64",
   "metadata": {},
   "outputs": [],
   "source": [
    "import pickle\n",
    "\n",
    "with open('classifier.pkl', 'wb') as fid:\n",
    "    pickle.dump(fraud_classifier, fid)\n",
    "with open('vectorizer.pkl', 'wb') as fid:\n",
    "    pickle.dump(vectorizer, fid)"
   ]
  }
 ],
 "metadata": {
  "kernelspec": {
   "display_name": "Python 3 (ipykernel)",
   "language": "python",
   "name": "python3"
  },
  "language_info": {
   "codemirror_mode": {
    "name": "ipython",
    "version": 3
   },
   "file_extension": ".py",
   "mimetype": "text/x-python",
   "name": "python",
   "nbconvert_exporter": "python",
   "pygments_lexer": "ipython3",
   "version": "3.8.10"
  }
 },
 "nbformat": 4,
 "nbformat_minor": 5
}
