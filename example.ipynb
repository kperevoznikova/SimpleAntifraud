{
 "cells": [
  {
   "cell_type": "code",
   "execution_count": 1,
   "metadata": {},
   "outputs": [],
   "source": [
    "import simple_antifraud as saf\n",
    "\n",
    "builder = saf.ModelBuilder()"
   ]
  },
  {
   "cell_type": "markdown",
   "metadata": {},
   "source": [
    "Создание объекта антифрод системы с различными моделями. \n",
    "Параметры:\n",
    "- `verbose` - вывод транскрипции\n",
    "- `preprocessor` - зашумление записи перед предсказанием"
   ]
  },
  {
   "cell_type": "code",
   "execution_count": 2,
   "metadata": {},
   "outputs": [],
   "source": [
    "antifraud = saf.SimpleAntifraud([\n",
    "    saf.SimpleAntifraudPart(builder.get_regular(), verbose=True),\n",
    "    saf.SimpleAntifraudPart(builder.get_regular(), preprocessor=True, verbose=True),\n",
    "    saf.SimpleAntifraudPart(builder.get_retrain('gauss_retrain', 'checkpoints/noised.ckpt'), verbose=True),\n",
    "    saf.SimpleAntifraudPart(builder.get_retrain('adv_retrain', 'checkpoints/noised_advs.ckpt'), verbose=True),\n",
    "])"
   ]
  },
  {
   "cell_type": "markdown",
   "metadata": {},
   "source": [
    "Доступные модели:"
   ]
  },
  {
   "cell_type": "code",
   "execution_count": 16,
   "metadata": {},
   "outputs": [
    {
     "data": {
      "text/plain": [
       "{'regular': <simple_antifraud.SimpleAntifraudPart at 0x7ffb94477760>,\n",
       " 'gauss': <simple_antifraud.SimpleAntifraudPart at 0x7ffa7e530e80>,\n",
       " 'gauss_retrain': <simple_antifraud.SimpleAntifraudPart at 0x7ffa7e4d9f40>,\n",
       " 'adv_retrain': <simple_antifraud.SimpleAntifraudPart at 0x7ffa7e4a38b0>}"
      ]
     },
     "execution_count": 16,
     "metadata": {},
     "output_type": "execute_result"
    }
   ],
   "source": [
    "antifraud.parts"
   ]
  },
  {
   "cell_type": "markdown",
   "metadata": {},
   "source": [
    "Предсказание обычной записи оригинальной моделью:"
   ]
  },
  {
   "cell_type": "code",
   "execution_count": 4,
   "metadata": {
    "scrolled": true
   },
   "outputs": [
    {
     "data": {
      "text/plain": [
       "(False, ['thankful', 'that', 'one', 'of', \"roy's\", 'sisters', 'was', 'liable'])"
      ]
     },
     "execution_count": 4,
     "metadata": {},
     "output_type": "execute_result"
    }
   ],
   "source": [
    "antifraud.check_regular('transcription_prepared/normal/112-123215-0030.wav')"
   ]
  },
  {
   "cell_type": "markdown",
   "metadata": {},
   "source": [
    "Предсказание мошеннической записи оригинальной моделью:"
   ]
  },
  {
   "cell_type": "code",
   "execution_count": 18,
   "metadata": {
    "scrolled": false
   },
   "outputs": [
    {
     "data": {
      "text/plain": [
       "(True,\n",
       " \"hello sir i'm from bank please tell me your can number for a bank purification\")"
      ]
     },
     "execution_count": 18,
     "metadata": {},
     "output_type": "execute_result"
    }
   ],
   "source": [
    "ans = antifraud.check_regular('transcription_prepared/fraud/cvv_indian.wav')\n",
    "ans[0], \" \".join(ans[1])"
   ]
  },
  {
   "cell_type": "markdown",
   "metadata": {},
   "source": [
    "Предсказание мошеннической записи с состязательным шумом оригинальной моделью:"
   ]
  },
  {
   "cell_type": "code",
   "execution_count": 20,
   "metadata": {},
   "outputs": [
    {
     "data": {
      "text/plain": [
       "(False,\n",
       " 'hello honey how are you i hope you have a nice weekend with your team mates')"
      ]
     },
     "execution_count": 20,
     "metadata": {},
     "output_type": "execute_result"
    }
   ],
   "source": [
    "ans = antifraud.check_regular('transcription_prepared/adversarial/cvv_indian.wav')\n",
    "ans[0], \" \".join(ans[1])"
   ]
  },
  {
   "cell_type": "markdown",
   "metadata": {},
   "source": [
    "Предсказание мошеннической записи с состязательным шумом защищенной моделью:"
   ]
  },
  {
   "cell_type": "code",
   "execution_count": 22,
   "metadata": {},
   "outputs": [
    {
     "data": {
      "text/plain": [
       "(True,\n",
       " \"hello sir i'm from bank please tell me your can number for a bank purification\")"
      ]
     },
     "execution_count": 22,
     "metadata": {},
     "output_type": "execute_result"
    }
   ],
   "source": [
    "ans = antifraud.check_adv_retrain('transcription_prepared/adversarial/cvv_indian.wav')\n",
    "ans[0], \" \".join(ans[1])"
   ]
  },
  {
   "cell_type": "markdown",
   "metadata": {},
   "source": [
    "Показать предсказания всех доступных моделей:"
   ]
  },
  {
   "cell_type": "code",
   "execution_count": 15,
   "metadata": {},
   "outputs": [
    {
     "name": "stdout",
     "output_type": "stream",
     "text": [
      "regular model prediction: False\n",
      "Transcription: hello honey how are you i hope you have a nice weekend with your team mates\n",
      "gauss model prediction: False\n",
      "Transcription: iron short am ally e tell me your same are number for avertigation\n",
      "gauss_retrain model prediction: True\n",
      "Transcription: hello sir i'm from bank please tell me your can number for a bank purification\n",
      "adv_retrain model prediction: True\n",
      "Transcription: hello sir i'm from bank please tell me your can number for a bank purification\n"
     ]
    }
   ],
   "source": [
    "for ans in antifraud.check_all('transcription_prepared/adversarial/cvv_indian.wav'):\n",
    "    print(f'{ans[0]} model prediction: {ans[1][0]}')\n",
    "    print(f'Transcription: {\" \".join(ans[1][1])}')"
   ]
  },
  {
   "cell_type": "code",
   "execution_count": null,
   "metadata": {},
   "outputs": [],
   "source": []
  }
 ],
 "metadata": {
  "kernelspec": {
   "display_name": "Python 3 (ipykernel)",
   "language": "python",
   "name": "python3"
  },
  "language_info": {
   "codemirror_mode": {
    "name": "ipython",
    "version": 3
   },
   "file_extension": ".py",
   "mimetype": "text/x-python",
   "name": "python",
   "nbconvert_exporter": "python",
   "pygments_lexer": "ipython3",
   "version": "3.8.10"
  }
 },
 "nbformat": 4,
 "nbformat_minor": 2
}
